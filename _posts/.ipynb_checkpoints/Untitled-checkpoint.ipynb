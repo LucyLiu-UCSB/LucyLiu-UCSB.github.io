{
 "cells": [
  {
   "cell_type": "code",
   "execution_count": 133,
   "metadata": {},
   "outputs": [],
   "source": [
    "ll= [1,2,3]"
   ]
  },
  {
   "cell_type": "code",
   "execution_count": 134,
   "metadata": {},
   "outputs": [
    {
     "data": {
      "text/plain": [
       "3"
      ]
     },
     "execution_count": 134,
     "metadata": {},
     "output_type": "execute_result"
    }
   ],
   "source": [
    "ll.pop()"
   ]
  },
  {
   "cell_type": "code",
   "execution_count": 135,
   "metadata": {},
   "outputs": [
    {
     "data": {
      "text/plain": [
       "[1, 2]"
      ]
     },
     "execution_count": 135,
     "metadata": {},
     "output_type": "execute_result"
    }
   ],
   "source": [
    "ll"
   ]
  },
  {
   "cell_type": "code",
   "execution_count": 137,
   "metadata": {},
   "outputs": [],
   "source": [
    "del ll[0]"
   ]
  },
  {
   "cell_type": "code",
   "execution_count": 138,
   "metadata": {},
   "outputs": [
    {
     "data": {
      "text/plain": [
       "[2]"
      ]
     },
     "execution_count": 138,
     "metadata": {},
     "output_type": "execute_result"
    }
   ],
   "source": [
    "ll"
   ]
  },
  {
   "cell_type": "code",
   "execution_count": 139,
   "metadata": {},
   "outputs": [],
   "source": [
    "ll=[1,3,6,9]"
   ]
  },
  {
   "cell_type": "code",
   "execution_count": 146,
   "metadata": {},
   "outputs": [
    {
     "data": {
      "text/plain": [
       "'g ，k'"
      ]
     },
     "execution_count": 146,
     "metadata": {},
     "output_type": "execute_result"
    }
   ],
   "source": [
    "' ，'.join(ll)"
   ]
  },
  {
   "cell_type": "code",
   "execution_count": 143,
   "metadata": {},
   "outputs": [],
   "source": [
    "ll=['g','k']"
   ]
  },
  {
   "cell_type": "code",
   "execution_count": 181,
   "metadata": {},
   "outputs": [],
   "source": [
    "paragraph = ll\n",
    "for i in ['!', '?',\"\\'\", \",\", \".\" , \";\"]:\n",
    "    paragraph = paragraph.replace(i, ' ')"
   ]
  },
  {
   "cell_type": "code",
   "execution_count": 182,
   "metadata": {},
   "outputs": [],
   "source": [
    "ll = paragraph.lower().split()"
   ]
  },
  {
   "cell_type": "code",
   "execution_count": 169,
   "metadata": {},
   "outputs": [],
   "source": [
    "counter = {}\n",
    "banned = [\"hit\"]"
   ]
  },
  {
   "cell_type": "code",
   "execution_count": 170,
   "metadata": {},
   "outputs": [],
   "source": [
    "for i in ll:\n",
    "    if i not in banned:\n",
    "        counter[i] = counter.get(i, 0) + 1"
   ]
  },
  {
   "cell_type": "code",
   "execution_count": 171,
   "metadata": {},
   "outputs": [
    {
     "data": {
      "text/plain": [
       "{'bob': 1,\n",
       " 'a': 1,\n",
       " 'ball': 2,\n",
       " 'the': 1,\n",
       " 'flew': 1,\n",
       " 'far': 1,\n",
       " 'after': 1,\n",
       " 'it': 1,\n",
       " 'was': 1}"
      ]
     },
     "execution_count": 171,
     "metadata": {},
     "output_type": "execute_result"
    }
   ],
   "source": [
    "counter"
   ]
  },
  {
   "cell_type": "code",
   "execution_count": 174,
   "metadata": {},
   "outputs": [],
   "source": [
    "ld = [(name, count) for name, count in counter.items()]"
   ]
  },
  {
   "cell_type": "code",
   "execution_count": 178,
   "metadata": {},
   "outputs": [],
   "source": [
    "ld.sort(key = lambda x: x[1])"
   ]
  },
  {
   "cell_type": "code",
   "execution_count": 179,
   "metadata": {},
   "outputs": [
    {
     "data": {
      "text/plain": [
       "[('a', 1),\n",
       " ('after', 1),\n",
       " ('bob', 1),\n",
       " ('far', 1),\n",
       " ('flew', 1),\n",
       " ('it', 1),\n",
       " ('the', 1),\n",
       " ('was', 1),\n",
       " ('ball', 2)]"
      ]
     },
     "execution_count": 179,
     "metadata": {},
     "output_type": "execute_result"
    }
   ],
   "source": [
    "ld"
   ]
  },
  {
   "cell_type": "code",
   "execution_count": 180,
   "metadata": {},
   "outputs": [],
   "source": [
    "ll = \"L, P! X! C; u! P? w! P. G, S? l? X? D. w? m? f? v, x? i. z; x' m! U' M! j? V; l. S! j? r, K. O? k? p? p, H! t! z' X! v. u; F, h; s? X? K. y, Y! L; q! y? j, o? D' y? F' Z; E? W; W' W! n! p' U. N; w? V' y! Q; J, o! T? g? o! N' M? X? w! V. w? o' k. W. y, k; o' m! r; i, n. k, w; U? S? t; O' g' z. V. N? z, W? j! m? W! h; t! V' T! Z? R' w, w? y? y; O' w; r? q. G, V. x? n, Y; Q. s? S. G. f, s! U? l. o! i. L; Z' X! u. y, Q. q; Q, D; V. m. q. s? Y, U; p? u! q? h? O. W' y? Z! x! r. E, R, r' X' V, b. z, x! Q; y, g' j; j. q; W; v' X! J' H? i' o? n, Y. X! x? h? u; T? l! o? z. K' z' s; L? p? V' r. L? Y; V! V' S. t? Z' T' Y. s? i? Y! G? r; Y; T! h! K; M. k. U; A! V? R? C' x! X. M; z' V! w. N. T? Y' w? n, Z, Z? Y' R; V' f; V' I; t? X? Z; l? R, Q! Z. R. R, O. S! w; p' T. u? U! n, V, M. p? Q, O? q' t. B, k. u. H' T; T? S; Y! S! i? q! K' z' S! v; L. x; q; W? m? y, Z! x. y. j? N' R' I? r? V! Z; s, O? s; V, I, e? U' w! T? T! u; U! e? w? z; t! C! z? U, p' p! r. x; U! Z; u! j; T! X! N' F? n! P' t, X. s; q'\"\n",
    "ban = [\"m\",\"i\",\"s\",\"w\",\"y\",\"d\",\"q\",\"l\",\"a\",\"p\",\"n\",\"t\",\"u\",\"b\",\"o\",\"e\",\"f\",\"g\",\"c\",\"x\"]"
   ]
  },
  {
   "cell_type": "code",
   "execution_count": 183,
   "metadata": {},
   "outputs": [
    {
     "data": {
      "text/plain": [
       "['l',\n",
       " 'p',\n",
       " 'x',\n",
       " 'c;',\n",
       " 'u',\n",
       " 'p',\n",
       " 'w',\n",
       " 'p',\n",
       " 'g',\n",
       " 's',\n",
       " 'l',\n",
       " 'x',\n",
       " 'd',\n",
       " 'w',\n",
       " 'm',\n",
       " 'f',\n",
       " 'v',\n",
       " 'x',\n",
       " 'i',\n",
       " 'z;',\n",
       " 'x',\n",
       " 'm',\n",
       " 'u',\n",
       " 'm',\n",
       " 'j',\n",
       " 'v;',\n",
       " 'l',\n",
       " 's',\n",
       " 'j',\n",
       " 'r',\n",
       " 'k',\n",
       " 'o',\n",
       " 'k',\n",
       " 'p',\n",
       " 'p',\n",
       " 'h',\n",
       " 't',\n",
       " 'z',\n",
       " 'x',\n",
       " 'v',\n",
       " 'u;',\n",
       " 'f',\n",
       " 'h;',\n",
       " 's',\n",
       " 'x',\n",
       " 'k',\n",
       " 'y',\n",
       " 'y',\n",
       " 'l;',\n",
       " 'q',\n",
       " 'y',\n",
       " 'j',\n",
       " 'o',\n",
       " 'd',\n",
       " 'y',\n",
       " 'f',\n",
       " 'z;',\n",
       " 'e',\n",
       " 'w;',\n",
       " 'w',\n",
       " 'w',\n",
       " 'n',\n",
       " 'p',\n",
       " 'u',\n",
       " 'n;',\n",
       " 'w',\n",
       " 'v',\n",
       " 'y',\n",
       " 'q;',\n",
       " 'j',\n",
       " 'o',\n",
       " 't',\n",
       " 'g',\n",
       " 'o',\n",
       " 'n',\n",
       " 'm',\n",
       " 'x',\n",
       " 'w',\n",
       " 'v',\n",
       " 'w',\n",
       " 'o',\n",
       " 'k',\n",
       " 'w',\n",
       " 'y',\n",
       " 'k;',\n",
       " 'o',\n",
       " 'm',\n",
       " 'r;',\n",
       " 'i',\n",
       " 'n',\n",
       " 'k',\n",
       " 'w;',\n",
       " 'u',\n",
       " 's',\n",
       " 't;',\n",
       " 'o',\n",
       " 'g',\n",
       " 'z',\n",
       " 'v',\n",
       " 'n',\n",
       " 'z',\n",
       " 'w',\n",
       " 'j',\n",
       " 'm',\n",
       " 'w',\n",
       " 'h;',\n",
       " 't',\n",
       " 'v',\n",
       " 't',\n",
       " 'z',\n",
       " 'r',\n",
       " 'w',\n",
       " 'w',\n",
       " 'y',\n",
       " 'y;',\n",
       " 'o',\n",
       " 'w;',\n",
       " 'r',\n",
       " 'q',\n",
       " 'g',\n",
       " 'v',\n",
       " 'x',\n",
       " 'n',\n",
       " 'y;',\n",
       " 'q',\n",
       " 's',\n",
       " 's',\n",
       " 'g',\n",
       " 'f',\n",
       " 's',\n",
       " 'u',\n",
       " 'l',\n",
       " 'o',\n",
       " 'i',\n",
       " 'l;',\n",
       " 'z',\n",
       " 'x',\n",
       " 'u',\n",
       " 'y',\n",
       " 'q',\n",
       " 'q;',\n",
       " 'q',\n",
       " 'd;',\n",
       " 'v',\n",
       " 'm',\n",
       " 'q',\n",
       " 's',\n",
       " 'y',\n",
       " 'u;',\n",
       " 'p',\n",
       " 'u',\n",
       " 'q',\n",
       " 'h',\n",
       " 'o',\n",
       " 'w',\n",
       " 'y',\n",
       " 'z',\n",
       " 'x',\n",
       " 'r',\n",
       " 'e',\n",
       " 'r',\n",
       " 'r',\n",
       " 'x',\n",
       " 'v',\n",
       " 'b',\n",
       " 'z',\n",
       " 'x',\n",
       " 'q;',\n",
       " 'y',\n",
       " 'g',\n",
       " 'j;',\n",
       " 'j',\n",
       " 'q;',\n",
       " 'w;',\n",
       " 'v',\n",
       " 'x',\n",
       " 'j',\n",
       " 'h',\n",
       " 'i',\n",
       " 'o',\n",
       " 'n',\n",
       " 'y',\n",
       " 'x',\n",
       " 'x',\n",
       " 'h',\n",
       " 'u;',\n",
       " 't',\n",
       " 'l',\n",
       " 'o',\n",
       " 'z',\n",
       " 'k',\n",
       " 'z',\n",
       " 's;',\n",
       " 'l',\n",
       " 'p',\n",
       " 'v',\n",
       " 'r',\n",
       " 'l',\n",
       " 'y;',\n",
       " 'v',\n",
       " 'v',\n",
       " 's',\n",
       " 't',\n",
       " 'z',\n",
       " 't',\n",
       " 'y',\n",
       " 's',\n",
       " 'i',\n",
       " 'y',\n",
       " 'g',\n",
       " 'r;',\n",
       " 'y;',\n",
       " 't',\n",
       " 'h',\n",
       " 'k;',\n",
       " 'm',\n",
       " 'k',\n",
       " 'u;',\n",
       " 'a',\n",
       " 'v',\n",
       " 'r',\n",
       " 'c',\n",
       " 'x',\n",
       " 'x',\n",
       " 'm;',\n",
       " 'z',\n",
       " 'v',\n",
       " 'w',\n",
       " 'n',\n",
       " 't',\n",
       " 'y',\n",
       " 'w',\n",
       " 'n',\n",
       " 'z',\n",
       " 'z',\n",
       " 'y',\n",
       " 'r;',\n",
       " 'v',\n",
       " 'f;',\n",
       " 'v',\n",
       " 'i;',\n",
       " 't',\n",
       " 'x',\n",
       " 'z;',\n",
       " 'l',\n",
       " 'r',\n",
       " 'q',\n",
       " 'z',\n",
       " 'r',\n",
       " 'r',\n",
       " 'o',\n",
       " 's',\n",
       " 'w;',\n",
       " 'p',\n",
       " 't',\n",
       " 'u',\n",
       " 'u',\n",
       " 'n',\n",
       " 'v',\n",
       " 'm',\n",
       " 'p',\n",
       " 'q',\n",
       " 'o',\n",
       " 'q',\n",
       " 't',\n",
       " 'b',\n",
       " 'k',\n",
       " 'u',\n",
       " 'h',\n",
       " 't;',\n",
       " 't',\n",
       " 's;',\n",
       " 'y',\n",
       " 's',\n",
       " 'i',\n",
       " 'q',\n",
       " 'k',\n",
       " 'z',\n",
       " 's',\n",
       " 'v;',\n",
       " 'l',\n",
       " 'x;',\n",
       " 'q;',\n",
       " 'w',\n",
       " 'm',\n",
       " 'y',\n",
       " 'z',\n",
       " 'x',\n",
       " 'y',\n",
       " 'j',\n",
       " 'n',\n",
       " 'r',\n",
       " 'i',\n",
       " 'r',\n",
       " 'v',\n",
       " 'z;',\n",
       " 's',\n",
       " 'o',\n",
       " 's;',\n",
       " 'v',\n",
       " 'i',\n",
       " 'e',\n",
       " 'u',\n",
       " 'w',\n",
       " 't',\n",
       " 't',\n",
       " 'u;',\n",
       " 'u',\n",
       " 'e',\n",
       " 'w',\n",
       " 'z;',\n",
       " 't',\n",
       " 'c',\n",
       " 'z',\n",
       " 'u',\n",
       " 'p',\n",
       " 'p',\n",
       " 'r',\n",
       " 'x;',\n",
       " 'u',\n",
       " 'z;',\n",
       " 'u',\n",
       " 'j;',\n",
       " 't',\n",
       " 'x',\n",
       " 'n',\n",
       " 'f',\n",
       " 'n',\n",
       " 'p',\n",
       " 't',\n",
       " 'x',\n",
       " 's;',\n",
       " 'q']"
      ]
     },
     "execution_count": 183,
     "metadata": {},
     "output_type": "execute_result"
    }
   ],
   "source": [
    "ll"
   ]
  },
  {
   "cell_type": "code",
   "execution_count": 184,
   "metadata": {},
   "outputs": [
    {
     "ename": "NameError",
     "evalue": "name 'string' is not defined",
     "output_type": "error",
     "traceback": [
      "\u001b[0;31m---------------------------------------------------------------------------\u001b[0m",
      "\u001b[0;31mNameError\u001b[0m                                 Traceback (most recent call last)",
      "\u001b[0;32m<ipython-input-184-c93acdd50369>\u001b[0m in \u001b[0;36m<module>\u001b[0;34m\u001b[0m\n\u001b[0;32m----> 1\u001b[0;31m \u001b[0mstring\u001b[0m\u001b[0;34m.\u001b[0m\u001b[0mpunctuation\u001b[0m\u001b[0;34m\u001b[0m\u001b[0;34m\u001b[0m\u001b[0m\n\u001b[0m",
      "\u001b[0;31mNameError\u001b[0m: name 'string' is not defined"
     ]
    }
   ],
   "source": [
    "string.punctuation"
   ]
  },
  {
   "cell_type": "code",
   "execution_count": 66,
   "metadata": {},
   "outputs": [],
   "source": [
    "    def orangesRotting(grid) -> int:\n",
    "        l = 0\n",
    "        quene = []\n",
    "        for i in range(len(grid)):\n",
    "            for j in range(len(grid[i])):\n",
    "                if grid[i][j] == 2:\n",
    "                    quene.append((i, j, l))\n",
    "        print(quene)\n",
    "        inter = 0\n",
    "        while quene:\n",
    "            i,j, l = quene.pop(0)\n",
    "            print(quene)\n",
    "            print(i,j,l)\n",
    "            ## move up\n",
    "            if i > 0 and grid[i-1][j] == 1:\n",
    "                quene.append((i-1, j, l+1))\n",
    "                grid[i-1][j] = 2\n",
    "            ## move down\n",
    "            if i< len(grid)-1 and grid[i+1][j] == 1:\n",
    "                quene.append((i+1, j, l+1))\n",
    "                grid[i+1][j] = 2\n",
    "            ## move right\n",
    "            if j < len(grid[i])-1 and grid[i][j+1] == 1:\n",
    "                quene.append((i,j+1, l+1))\n",
    "                grid[i][j+1] = 2\n",
    "        \n",
    "            ## move left\n",
    "            if j>0 and grid[i][j-1] ==1:\n",
    "                quene.append((i, j-1, l+1))\n",
    "                grid[i][j-1] = 2\n",
    "                \n",
    "                \n",
    "        if any(1 in grid[i] for i in range(len(grid))):\n",
    "            return -1\n",
    "        return l\n",
    "\n"
   ]
  },
  {
   "cell_type": "code",
   "execution_count": 68,
   "metadata": {},
   "outputs": [],
   "source": [
    "tt = [[2,1,1],[1,1,0],[0,1,1]]"
   ]
  },
  {
   "cell_type": "code",
   "execution_count": 69,
   "metadata": {},
   "outputs": [
    {
     "name": "stdout",
     "output_type": "stream",
     "text": [
      "[(0, 0, 0)]\n",
      "[]\n",
      "0 0 0\n",
      "[(0, 1, 1)]\n",
      "1 0 1\n",
      "[(1, 1, 2)]\n",
      "0 1 1\n",
      "[(0, 2, 2)]\n",
      "1 1 2\n",
      "[(2, 1, 3)]\n",
      "0 2 2\n",
      "[]\n",
      "2 1 3\n",
      "[]\n",
      "2 2 4\n"
     ]
    },
    {
     "data": {
      "text/plain": [
       "4"
      ]
     },
     "execution_count": 69,
     "metadata": {},
     "output_type": "execute_result"
    }
   ],
   "source": [
    "orangesRotting(tt)"
   ]
  },
  {
   "cell_type": "code",
   "execution_count": 50,
   "metadata": {},
   "outputs": [
    {
     "data": {
      "text/plain": [
       "[[2, 2, 1], [2, 2, 0], [0, 2, 2]]"
      ]
     },
     "execution_count": 50,
     "metadata": {},
     "output_type": "execute_result"
    }
   ],
   "source": [
    "tt"
   ]
  },
  {
   "cell_type": "code",
   "execution_count": 54,
   "metadata": {},
   "outputs": [
    {
     "name": "stdout",
     "output_type": "stream",
     "text": [
      "3\n"
     ]
    }
   ],
   "source": [
    "if [(0, 0, 0), (0, 1, 0), (1, 0, 0), (1, 1, 0), (2, 1, 0)]:\n",
    "    print(3)"
   ]
  },
  {
   "cell_type": "code",
   "execution_count": 71,
   "metadata": {},
   "outputs": [],
   "source": [
    "    def climbStairs(n: int) -> int:\n",
    "\n",
    "        if n == 1:\n",
    "            return 1\n",
    "        elif n == 2:\n",
    "            return 2\n",
    "        else:\n",
    "            l_1 = 2\n",
    "            l_2 = 1\n",
    "            for i in range(3, n+1):\n",
    "                \n",
    "                res = l_1 + l_2\n",
    "                l_1, l_2 = l_2, res\n",
    "                print(l_1, l_2)\n",
    "        return res"
   ]
  },
  {
   "cell_type": "code",
   "execution_count": 72,
   "metadata": {},
   "outputs": [
    {
     "name": "stdout",
     "output_type": "stream",
     "text": [
      "1 3\n",
      "3 4\n"
     ]
    },
    {
     "data": {
      "text/plain": [
       "4"
      ]
     },
     "execution_count": 72,
     "metadata": {},
     "output_type": "execute_result"
    }
   ],
   "source": [
    "climbStairs(4)"
   ]
  },
  {
   "cell_type": "code",
   "execution_count": 74,
   "metadata": {},
   "outputs": [],
   "source": [
    "l = set([1,2,3,3])"
   ]
  },
  {
   "cell_type": "code",
   "execution_count": 75,
   "metadata": {},
   "outputs": [
    {
     "data": {
      "text/plain": [
       "{1, 2, 3}"
      ]
     },
     "execution_count": 75,
     "metadata": {},
     "output_type": "execute_result"
    }
   ],
   "source": [
    "l"
   ]
  },
  {
   "cell_type": "code",
   "execution_count": 76,
   "metadata": {},
   "outputs": [],
   "source": [
    "f= {1,2,3,4}"
   ]
  },
  {
   "cell_type": "code",
   "execution_count": 77,
   "metadata": {},
   "outputs": [
    {
     "data": {
      "text/plain": [
       "{1, 2, 3, 4}"
      ]
     },
     "execution_count": 77,
     "metadata": {},
     "output_type": "execute_result"
    }
   ],
   "source": [
    "f"
   ]
  },
  {
   "cell_type": "code",
   "execution_count": 78,
   "metadata": {},
   "outputs": [],
   "source": [
    "f.add(3)"
   ]
  },
  {
   "cell_type": "code",
   "execution_count": 79,
   "metadata": {},
   "outputs": [
    {
     "data": {
      "text/plain": [
       "{1, 2, 3, 4}"
      ]
     },
     "execution_count": 79,
     "metadata": {},
     "output_type": "execute_result"
    }
   ],
   "source": [
    "f"
   ]
  },
  {
   "cell_type": "code",
   "execution_count": 82,
   "metadata": {},
   "outputs": [
    {
     "data": {
      "text/plain": [
       "True"
      ]
     },
     "execution_count": 82,
     "metadata": {},
     "output_type": "execute_result"
    }
   ],
   "source": [
    "f == {2,3,1,4}"
   ]
  },
  {
   "cell_type": "code",
   "execution_count": 83,
   "metadata": {},
   "outputs": [],
   "source": [
    "l = list(f)"
   ]
  },
  {
   "cell_type": "code",
   "execution_count": 84,
   "metadata": {},
   "outputs": [
    {
     "data": {
      "text/plain": [
       "[1, 2, 3, 4]"
      ]
     },
     "execution_count": 84,
     "metadata": {},
     "output_type": "execute_result"
    }
   ],
   "source": [
    "l"
   ]
  },
  {
   "cell_type": "code",
   "execution_count": 87,
   "metadata": {},
   "outputs": [],
   "source": [
    "l.remove(4)"
   ]
  },
  {
   "cell_type": "code",
   "execution_count": 91,
   "metadata": {},
   "outputs": [],
   "source": [
    "ss  =l.copy()"
   ]
  },
  {
   "cell_type": "code",
   "execution_count": 92,
   "metadata": {},
   "outputs": [
    {
     "data": {
      "text/plain": [
       "[1, 2]"
      ]
     },
     "execution_count": 92,
     "metadata": {},
     "output_type": "execute_result"
    }
   ],
   "source": [
    "ss"
   ]
  },
  {
   "cell_type": "code",
   "execution_count": 93,
   "metadata": {},
   "outputs": [],
   "source": [
    "ss.append(0)"
   ]
  },
  {
   "cell_type": "code",
   "execution_count": 96,
   "metadata": {},
   "outputs": [],
   "source": [
    "ss = tuple(ss)"
   ]
  },
  {
   "cell_type": "code",
   "execution_count": 97,
   "metadata": {},
   "outputs": [
    {
     "data": {
      "text/plain": [
       "(1, 2, 0)"
      ]
     },
     "execution_count": 97,
     "metadata": {},
     "output_type": "execute_result"
    }
   ],
   "source": [
    "ss"
   ]
  },
  {
   "cell_type": "code",
   "execution_count": 127,
   "metadata": {},
   "outputs": [],
   "source": [
    "def threeSum( nums):\n",
    "    nums.sort()\n",
    "    l = []\n",
    "    computed = []\n",
    "    r = len(nums) - 1\n",
    "    \n",
    "    for i in range(len(nums)-2):\n",
    "        if nums[i]>0:\n",
    "            break\n",
    "        l = i + 1\n",
    "        \n",
    "        if i !=0 and nums[i] == nums[i-1]:\n",
    "            continue\n",
    "            \n",
    "        while l < r:\n",
    "            \n",
    "            if nums[r]<0:\n",
    "                continue\n",
    "            sums = nums[l] + nums[r]\n",
    "            if  sums == -nums[i]:\n",
    "                l.append([nums[i], nums[l], nums[r]])\n",
    "                l = l + 1\n",
    "            elif sums < -nums[i]:\n",
    "                    l = l + 1\n",
    "            else:\n",
    "                r = r - 1\n",
    "                \n",
    "            \n",
    "\n",
    "            \n",
    "            \n",
    "        \n",
    "        \n",
    "    \n",
    "            "
   ]
  },
  {
   "cell_type": "code",
   "execution_count": 128,
   "metadata": {},
   "outputs": [],
   "source": [
    "nums = [-1, 0, 1, 2, -1, -4]"
   ]
  },
  {
   "cell_type": "code",
   "execution_count": 129,
   "metadata": {},
   "outputs": [
    {
     "data": {
      "text/plain": [
       "[[-1, 0, 1], [-1, -1, 2]]"
      ]
     },
     "execution_count": 129,
     "metadata": {},
     "output_type": "execute_result"
    }
   ],
   "source": [
    "threeSum(nums)"
   ]
  },
  {
   "cell_type": "code",
   "execution_count": 125,
   "metadata": {},
   "outputs": [
    {
     "data": {
      "text/plain": [
       "(-1, 0, 1, 2, -1, -4)"
      ]
     },
     "execution_count": 125,
     "metadata": {},
     "output_type": "execute_result"
    }
   ],
   "source": [
    "tuple(nums)"
   ]
  },
  {
   "cell_type": "code",
   "execution_count": 132,
   "metadata": {},
   "outputs": [],
   "source": [
    "ll = {(1,2), (2,1)}"
   ]
  },
  {
   "cell_type": "code",
   "execution_count": 133,
   "metadata": {},
   "outputs": [
    {
     "name": "stdout",
     "output_type": "stream",
     "text": [
      "(1, 2)\n",
      "(2, 1)\n"
     ]
    }
   ],
   "source": [
    "for i in ll:\n",
    "    print(i)"
   ]
  },
  {
   "cell_type": "code",
   "execution_count": 134,
   "metadata": {},
   "outputs": [
    {
     "data": {
      "text/plain": [
       "[1, 3, 4]"
      ]
     },
     "execution_count": 134,
     "metadata": {},
     "output_type": "execute_result"
    }
   ],
   "source": [
    "sorted((1,3,4))"
   ]
  },
  {
   "cell_type": "code",
   "execution_count": 136,
   "metadata": {},
   "outputs": [],
   "source": [
    "ll = (2,3,4)"
   ]
  },
  {
   "cell_type": "code",
   "execution_count": 138,
   "metadata": {},
   "outputs": [
    {
     "data": {
      "text/plain": [
       "[2, 3, 4]"
      ]
     },
     "execution_count": 138,
     "metadata": {},
     "output_type": "execute_result"
    }
   ],
   "source": [
    "sorted(ll)"
   ]
  },
  {
   "cell_type": "code",
   "execution_count": null,
   "metadata": {},
   "outputs": [],
   "source": []
  }
 ],
 "metadata": {
  "kernelspec": {
   "display_name": "Python 3",
   "language": "python",
   "name": "python3"
  },
  "language_info": {
   "codemirror_mode": {
    "name": "ipython",
    "version": 3
   },
   "file_extension": ".py",
   "mimetype": "text/x-python",
   "name": "python",
   "nbconvert_exporter": "python",
   "pygments_lexer": "ipython3",
   "version": "3.7.5"
  }
 },
 "nbformat": 4,
 "nbformat_minor": 4
}
