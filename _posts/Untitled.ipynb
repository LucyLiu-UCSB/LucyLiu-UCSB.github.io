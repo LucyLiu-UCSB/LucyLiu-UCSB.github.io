{
 "cells": [
  {
   "cell_type": "code",
   "execution_count": 195,
   "metadata": {},
   "outputs": [
    {
     "data": {
      "text/plain": [
       "[(6, 40, Timestamp('1987-01-06 00:00:00')),\n",
       " (2, 33, Timestamp('1987-01-02 00:00:00')),\n",
       " (3, 33, Timestamp('1987-01-03 00:00:00')),\n",
       " (1, 32, Timestamp('1987-01-01 00:00:00')),\n",
       " (5, 32, Timestamp('1987-01-05 00:00:00')),\n",
       " (4, 29, Timestamp('1987-01-04 00:00:00'))]"
      ]
     },
     "execution_count": 195,
     "metadata": {},
     "output_type": "execute_result"
    }
   ],
   "source": [
    "import pandas as pd\n",
    "rawdata = pd.read_csv('/Users/lucyliu/Desktop/smallData.csv')\n",
    "rawdata['date'] = pd.to_datetime(rawdata.date)\n",
    "dataTuple = list(rawdata.itertuples(index = False, name = None))\n",
    "sorted(dataTuple, key=lambda x: (-x[1], x[2]))"
   ]
  },
  {
   "cell_type": "code",
   "execution_count": 196,
   "metadata": {},
   "outputs": [
    {
     "data": {
      "text/html": [
       "<div>\n",
       "<style scoped>\n",
       "    .dataframe tbody tr th:only-of-type {\n",
       "        vertical-align: middle;\n",
       "    }\n",
       "\n",
       "    .dataframe tbody tr th {\n",
       "        vertical-align: top;\n",
       "    }\n",
       "\n",
       "    .dataframe thead th {\n",
       "        text-align: right;\n",
       "    }\n",
       "</style>\n",
       "<table border=\"1\" class=\"dataframe\">\n",
       "  <thead>\n",
       "    <tr style=\"text-align: right;\">\n",
       "      <th></th>\n",
       "      <th>record_id</th>\n",
       "      <th>temperature</th>\n",
       "      <th>date</th>\n",
       "    </tr>\n",
       "  </thead>\n",
       "  <tbody>\n",
       "    <tr>\n",
       "      <th>0</th>\n",
       "      <td>1</td>\n",
       "      <td>32</td>\n",
       "      <td>1987-01-01</td>\n",
       "    </tr>\n",
       "    <tr>\n",
       "      <th>1</th>\n",
       "      <td>2</td>\n",
       "      <td>33</td>\n",
       "      <td>1987-01-02</td>\n",
       "    </tr>\n",
       "    <tr>\n",
       "      <th>2</th>\n",
       "      <td>3</td>\n",
       "      <td>33</td>\n",
       "      <td>1987-01-03</td>\n",
       "    </tr>\n",
       "    <tr>\n",
       "      <th>3</th>\n",
       "      <td>4</td>\n",
       "      <td>29</td>\n",
       "      <td>1987-01-04</td>\n",
       "    </tr>\n",
       "    <tr>\n",
       "      <th>4</th>\n",
       "      <td>5</td>\n",
       "      <td>32</td>\n",
       "      <td>1987-01-05</td>\n",
       "    </tr>\n",
       "    <tr>\n",
       "      <th>5</th>\n",
       "      <td>6</td>\n",
       "      <td>40</td>\n",
       "      <td>1987-01-06</td>\n",
       "    </tr>\n",
       "  </tbody>\n",
       "</table>\n",
       "</div>"
      ],
      "text/plain": [
       "   record_id  temperature       date\n",
       "0          1           32 1987-01-01\n",
       "1          2           33 1987-01-02\n",
       "2          3           33 1987-01-03\n",
       "3          4           29 1987-01-04\n",
       "4          5           32 1987-01-05\n",
       "5          6           40 1987-01-06"
      ]
     },
     "execution_count": 196,
     "metadata": {},
     "output_type": "execute_result"
    }
   ],
   "source": [
    "rawdata"
   ]
  },
  {
   "cell_type": "code",
   "execution_count": 208,
   "metadata": {},
   "outputs": [
    {
     "name": "stdout",
     "output_type": "stream",
     "text": [
      "|   record_id |   temperature | date                |\n",
      "|------------:|--------------:|:--------------------|\n",
      "|           6 |            40 | 1987-01-06 00:00:00 |\n",
      "|           2 |            33 | 1987-01-02 00:00:00 |\n",
      "|           3 |            33 | 1987-01-03 00:00:00 |\n",
      "|           1 |            32 | 1987-01-01 00:00:00 |\n",
      "|           5 |            32 | 1987-01-05 00:00:00 |\n",
      "|           4 |            29 | 1987-01-04 00:00:00 |\n"
     ]
    }
   ],
   "source": [
    "from tabulate import tabulate\n",
    "sortedData = rawdata.sort_values(by=['temperature', 'date'], ascending = [False, True])\n",
    "print(tabulate(sortedData, tablefmt=\"pipe\", headers=\"keys\", showindex = False))"
   ]
  },
  {
   "cell_type": "code",
   "execution_count": 207,
   "metadata": {},
   "outputs": [
    {
     "name": "stdout",
     "output_type": "stream",
     "text": [
      "|   record_id |   temperature | date                |\n",
      "|------------:|--------------:|:--------------------|\n",
      "|           6 |            40 | 1987-01-06 00:00:00 |\n",
      "|           2 |            33 | 1987-01-02 00:00:00 |\n",
      "|           3 |            33 | 1987-01-03 00:00:00 |\n",
      "|           1 |            32 | 1987-01-01 00:00:00 |\n",
      "|           5 |            32 | 1987-01-05 00:00:00 |\n",
      "|           4 |            29 | 1987-01-04 00:00:00 |\n"
     ]
    }
   ],
   "source": []
  },
  {
   "cell_type": "code",
   "execution_count": 193,
   "metadata": {},
   "outputs": [
    {
     "data": {
      "text/plain": [
       "[(6, 40, Timestamp('1987-01-06 00:00:00')),\n",
       " (2, 33, Timestamp('1987-01-02 00:00:00')),\n",
       " (3, 33, Timestamp('1987-01-03 00:00:00')),\n",
       " (1, 32, Timestamp('1987-01-01 00:00:00')),\n",
       " (5, 32, Timestamp('1987-01-05 00:00:00')),\n",
       " (4, 29, Timestamp('1987-01-04 00:00:00'))]"
      ]
     },
     "execution_count": 193,
     "metadata": {},
     "output_type": "execute_result"
    }
   ],
   "source": []
  },
  {
   "cell_type": "code",
   "execution_count": 191,
   "metadata": {},
   "outputs": [
    {
     "data": {
      "text/html": [
       "<div>\n",
       "<style scoped>\n",
       "    .dataframe tbody tr th:only-of-type {\n",
       "        vertical-align: middle;\n",
       "    }\n",
       "\n",
       "    .dataframe tbody tr th {\n",
       "        vertical-align: top;\n",
       "    }\n",
       "\n",
       "    .dataframe thead th {\n",
       "        text-align: right;\n",
       "    }\n",
       "</style>\n",
       "<table border=\"1\" class=\"dataframe\">\n",
       "  <thead>\n",
       "    <tr style=\"text-align: right;\">\n",
       "      <th></th>\n",
       "      <th>record_id</th>\n",
       "      <th>temperature</th>\n",
       "      <th>date</th>\n",
       "    </tr>\n",
       "  </thead>\n",
       "  <tbody>\n",
       "    <tr>\n",
       "      <th>0</th>\n",
       "      <td>1</td>\n",
       "      <td>32</td>\n",
       "      <td>1987-01-01</td>\n",
       "    </tr>\n",
       "    <tr>\n",
       "      <th>1</th>\n",
       "      <td>2</td>\n",
       "      <td>33</td>\n",
       "      <td>1987-01-02</td>\n",
       "    </tr>\n",
       "    <tr>\n",
       "      <th>2</th>\n",
       "      <td>3</td>\n",
       "      <td>33</td>\n",
       "      <td>1987-01-03</td>\n",
       "    </tr>\n",
       "    <tr>\n",
       "      <th>3</th>\n",
       "      <td>4</td>\n",
       "      <td>29</td>\n",
       "      <td>1987-01-04</td>\n",
       "    </tr>\n",
       "    <tr>\n",
       "      <th>4</th>\n",
       "      <td>5</td>\n",
       "      <td>32</td>\n",
       "      <td>1987-01-05</td>\n",
       "    </tr>\n",
       "    <tr>\n",
       "      <th>5</th>\n",
       "      <td>6</td>\n",
       "      <td>40</td>\n",
       "      <td>1987-01-06</td>\n",
       "    </tr>\n",
       "  </tbody>\n",
       "</table>\n",
       "</div>"
      ],
      "text/plain": [
       "   record_id  temperature       date\n",
       "0          1           32 1987-01-01\n",
       "1          2           33 1987-01-02\n",
       "2          3           33 1987-01-03\n",
       "3          4           29 1987-01-04\n",
       "4          5           32 1987-01-05\n",
       "5          6           40 1987-01-06"
      ]
     },
     "execution_count": 191,
     "metadata": {},
     "output_type": "execute_result"
    }
   ],
   "source": [
    "rawdata"
   ]
  },
  {
   "cell_type": "code",
   "execution_count": null,
   "metadata": {},
   "outputs": [],
   "source": []
  }
 ],
 "metadata": {
  "kernelspec": {
   "display_name": "Python 3",
   "language": "python",
   "name": "python3"
  },
  "language_info": {
   "codemirror_mode": {
    "name": "ipython",
    "version": 3
   },
   "file_extension": ".py",
   "mimetype": "text/x-python",
   "name": "python",
   "nbconvert_exporter": "python",
   "pygments_lexer": "ipython3",
   "version": "3.7.5"
  }
 },
 "nbformat": 4,
 "nbformat_minor": 4
}
